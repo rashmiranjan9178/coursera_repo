{
 "cells": [
  {
   "cell_type": "markdown",
   "metadata": {},
   "source": [
    "<center>\n",
    "    <img src=\"https://cf-courses-data.s3.us.cloud-object-storage.appdomain.cloud/IBMDeveloperSkillsNetwork-DS0105EN-SkillsNetwork/labs/Module2/images/SN_web_lightmode.png\" width=\"300\" alt=\"cognitiveclass.ai logo\">\n",
    "</center>\n"
   ]
  },
  {
   "cell_type": "markdown",
   "metadata": {
    "tags": []
   },
   "source": [
    "#### Add your code below following the instructions given in the course\n"
   ]
  },
  {
   "cell_type": "markdown",
   "metadata": {},
   "source": [
    "#H1:Data Science Tools and Ecosystem"
   ]
  },
  {
   "cell_type": "markdown",
   "metadata": {},
   "source": [
    "#H2: In  this notebook, Data science Tools and Ecosystem are summerised"
   ]
  },
  {
   "cell_type": "markdown",
   "metadata": {},
   "source": [
    "1. Python\n",
    "2. R\n",
    "3. SQL\n"
   ]
  },
  {
   "cell_type": "markdown",
   "metadata": {
    "tags": []
   },
   "source": [
    "1. NumPy\n",
    "2. Pandas\n",
    "3. Matplotlib\n",
    "4. Scikit-learn\n",
    "5. TensorFlow\n"
   ]
  },
  {
   "cell_type": "markdown",
   "metadata": {},
   "source": [
    "| Data Science Tools |\n",
    "| ------ |\n",
    "| Jupyter Notebook |\n",
    "| RStudio |\n",
    "| Spyder |\n"
   ]
  },
  {
   "cell_type": "markdown",
   "metadata": {},
   "source": [
    "#H3:Below are a few example of evaluating arithmatic expressions in python\n",
    "# Addition\n",
    "a = 10\n",
    "b = 5\n",
    "addition = a + b\n",
    "print(\"Addition:\", addition)\n",
    "\n",
    "# Subtraction\n",
    "subtraction = a - b\n",
    "print(\"Subtraction:\", subtraction)\n",
    "\n",
    "# Multiplication\n",
    "multiplication = a * b\n",
    "print(\"Multiplication:\", multiplication)\n",
    "\n",
    "# Division\n",
    "division = a / b\n",
    "print(\"Division:\", division)\n",
    "\n",
    "# Floor Division\n",
    "floor_division = a // b\n",
    "print(\"Floor Division:\", floor_division)\n",
    "\n",
    "# Modulo\n",
    "modulo = a % b\n",
    "print(\"Modulo:\", modulo)\n",
    "\n",
    "# Exponentiation\n",
    "exponentiation = a ** b\n",
    "print(\"Exponentiation:\", exponentiation)\n"
   ]
  },
  {
   "cell_type": "code",
   "execution_count": 2,
   "metadata": {
    "tags": []
   },
   "outputs": [
    {
     "name": "stdout",
     "output_type": "stream",
     "text": [
      "Addition: 15\n",
      "Subtraction: 5\n",
      "Multiplication: 50\n",
      "Division: 2.0\n",
      "Floor Division: 2\n",
      "Modulo: 0\n",
      "Exponentiation: 100000\n"
     ]
    }
   ],
   "source": [
    "#H3\n",
    "# Addition\n",
    "a = 10\n",
    "b = 5\n",
    "addition = a + b\n",
    "print(\"Addition:\", addition)\n",
    "\n",
    "# Subtraction\n",
    "subtraction = a - b\n",
    "print(\"Subtraction:\", subtraction)\n",
    "\n",
    "# Multiplication\n",
    "multiplication = a * b\n",
    "print(\"Multiplication:\", multiplication)\n",
    "\n",
    "# Division\n",
    "division = a / b\n",
    "print(\"Division:\", division)\n",
    "\n",
    "# Floor Division\n",
    "floor_division = a // b\n",
    "print(\"Floor Division:\", floor_division)\n",
    "\n",
    "# Modulo\n",
    "modulo = a % b\n",
    "print(\"Modulo:\", modulo)\n",
    "\n",
    "# Exponentiation\n",
    "exponentiation = a ** b\n",
    "print(\"Exponentiation:\", exponentiation)\n"
   ]
  },
  {
   "cell_type": "code",
   "execution_count": 3,
   "metadata": {
    "tags": []
   },
   "outputs": [
    {
     "name": "stdout",
     "output_type": "stream",
     "text": [
      "17\n"
     ]
    }
   ],
   "source": [
    "#This a simple arithmatic expression to multiply then add integers\n",
    "print((3*4)+5)"
   ]
  },
  {
   "cell_type": "code",
   "execution_count": 4,
   "metadata": {
    "tags": []
   },
   "outputs": [
    {
     "name": "stdout",
     "output_type": "stream",
     "text": [
      "3.3333333333333335\n"
     ]
    }
   ],
   "source": [
    "min=200\n",
    "hr=min/60\n",
    "print(hr)"
   ]
  },
  {
   "cell_type": "markdown",
   "metadata": {},
   "source": [
    "| Objectives |\n",
    "| ------ |\n",
    "| libraries for ds |\n",
    "| Tools for ds |\n",
    "| Arithmatic operation |\n",
    "| Addition and Multiplication operation |\n",
    "| Usesof Tags and comment lines |"
   ]
  },
  {
   "cell_type": "code",
   "execution_count": null,
   "metadata": {},
   "outputs": [],
   "source": [
    "## Author\n",
    "Rasmiranjan panda\n"
   ]
  }
 ],
 "metadata": {
  "kernelspec": {
   "display_name": "Python",
   "language": "python",
   "name": "conda-env-python-py"
  },
  "language_info": {
   "codemirror_mode": {
    "name": "ipython",
    "version": 3
   },
   "file_extension": ".py",
   "mimetype": "text/x-python",
   "name": "python",
   "nbconvert_exporter": "python",
   "pygments_lexer": "ipython3",
   "version": "3.7.12"
  }
 },
 "nbformat": 4,
 "nbformat_minor": 4
}
